{
 "cells": [
  {
   "cell_type": "code",
   "execution_count": null,
   "metadata": {},
   "outputs": [],
   "source": [
    "# Import the required modules\n",
    "import pandas as pd\n",
    "pd.set_option('display.max_columns', None)\n",
    "import numpy as np\n",
    "\n",
    "# visualization\n",
    "import matplotlib.pyplot as plt\n",
    "import seaborn as sns\n",
    "import hvplot.pandas\n",
    "\n",
    "# Machine Learning\n",
    "from sklearn.cluster import KMeans, AgglomerativeClustering, Birch\n",
    "from sklearn.metrics import silhouette_score, calinski_harabasz_score\n",
    "\n",
    "from sklearn.preprocessing import StandardScaler, MinMaxScaler\n",
    "from sklearn.manifold import TSNE\n",
    "from sklearn.decomposition import PCA\n",
    "\n",
    "# suppress warnings\n",
    "import warnings\n",
    "warnings.filterwarnings('ignore')"
   ]
  },
  {
   "cell_type": "code",
   "execution_count": null,
   "metadata": {},
   "outputs": [],
   "source": [
    "# Load the data into a Pandas DataFrame\n",
    "df = pd.read_csv(\n",
    "    \"Resources/crypto_market_data.csv\", index_col=\"coin_id\")\n",
    "\n",
    "# Display sample data\n",
    "df.head(10)"
   ]
  },
  {
   "cell_type": "code",
   "execution_count": null,
   "metadata": {},
   "outputs": [],
   "source": [
    "# Generate summary statistics\n",
    "df.describe()"
   ]
  },
  {
   "cell_type": "code",
   "execution_count": null,
   "metadata": {},
   "outputs": [],
   "source": [
    "# Plot your data to see what's in your DataFrame\n",
    "df.hvplot.line(\n",
    "    width=800,\n",
    "    height=400,\n",
    "    rot=90\n",
    ")"
   ]
  },
  {
   "cell_type": "code",
   "execution_count": null,
   "metadata": {},
   "outputs": [],
   "source": [
    "df.info()"
   ]
  },
  {
   "cell_type": "code",
   "execution_count": null,
   "metadata": {},
   "outputs": [],
   "source": [
    "df.describe()"
   ]
  },
  {
   "attachments": {},
   "cell_type": "markdown",
   "metadata": {},
   "source": [
    "---"
   ]
  },
  {
   "attachments": {},
   "cell_type": "markdown",
   "metadata": {},
   "source": [
    "### Prepare the Data"
   ]
  },
  {
   "cell_type": "code",
   "execution_count": null,
   "metadata": {},
   "outputs": [],
   "source": [
    "# Create a DataFrame with the scaled data\n",
    "\n",
    "scaler = StandardScaler()\n",
    "# Copy the crypto names from the original data\n",
    "scaler.fit(df)\n",
    "# Set the coinid column as index\n",
    "scaled_data = scaler.transform(df)\n",
    "df_scaled = pd.DataFrame(scaled_data, columns=df.columns)\n",
    "df_scaled.index=df.index\n",
    "df_scaled=df_scaled.reset_index()\n",
    "# Display sample data\n",
    "df_scaled.head()"
   ]
  },
  {
   "attachments": {},
   "cell_type": "markdown",
   "metadata": {},
   "source": [
    "---"
   ]
  },
  {
   "attachments": {},
   "cell_type": "markdown",
   "metadata": {},
   "source": [
    "### Find the Best Value for k Using the Original Data."
   ]
  },
  {
   "cell_type": "code",
   "execution_count": null,
   "metadata": {},
   "outputs": [],
   "source": [
    "\n",
    "# Can this even be clustered?\n",
    "\n",
    "# Assuming df_scaled is your DataFrame containing the scaled data, excluding the column with cryptocurrency names\n",
    "numerical_columns = df_scaled.select_dtypes(include=['float64', 'int64']).columns\n",
    "df_numerical = df_scaled[numerical_columns]\n",
    "\n",
    "# Apply t-SNE on the numerical data\n",
    "tsne = TSNE(perplexity=4)\n",
    "df_tsne = pd.DataFrame(tsne.fit_transform(df_numerical))\n",
    "\n",
    "# Plot the clusters\n",
    "plt.scatter(df_tsne[0], df_tsne[1])\n",
    "plt.title(\"t-SNE on Numerical Data\")\n",
    "plt.show()"
   ]
  },
  {
   "cell_type": "code",
   "execution_count": null,
   "metadata": {},
   "outputs": [],
   "source": [
    "#Define your X features to predict\n",
    "X=df_scaled"
   ]
  },
  {
   "cell_type": "code",
   "execution_count": null,
   "metadata": {},
   "outputs": [],
   "source": [
    "# Assuming X is your data without non-numeric columns like cryptocurrency names\n",
    "numerical_columns = X.select_dtypes(include=['float64', 'int64']).columns\n",
    "X_numerical = X[numerical_columns]\n",
    "\n",
    "inertia = []\n",
    "silhouettes = []\n",
    "cha_chas = []\n",
    "\n",
    "# Create a a list to store the values of k\n",
    "k = list(range(2, 20))\n",
    "\n",
    "# Create a for-loop where each value of k is evaluated using the K-means algorithm\n",
    "# Fit the model using the spread_df DataFrame\n",
    "# Append the value of the computed inertia from the `inertia_` attribute of the KMeans model instance\n",
    "for i in k:\n",
    "    k_model = KMeans(n_clusters=i, random_state=1)\n",
    "    k_model.fit(X_numerical)\n",
    "    preds = k_model.predict(X_numerical)\n",
    "    \n",
    "    inertia.append(k_model.inertia_)\n",
    "    score = silhouette_score(X_numerical, preds)\n",
    "    silhouettes.append(score)\n",
    "    \n",
    "    cha_cha = calinski_harabasz_score(X_numerical, preds)\n",
    "    cha_chas.append(cha_cha)\n",
    "    \n",
    "    print(f\"Finished {i} out of {max(k)}\")"
   ]
  },
  {
   "cell_type": "code",
   "execution_count": null,
   "metadata": {},
   "outputs": [],
   "source": [
    "# Define a DataFrame to hold the values for k and the corresponding inertia\n",
    "elbow_data = {\"k\": k, \"inertia\": inertia, \"silhouette_score\": silhouettes, \"cha_score\": cha_chas}\n",
    "df_elbow = pd.DataFrame(elbow_data)\n",
    "\n",
    "df_elbow[\"acc\"] = df_elbow.inertia.diff()\n",
    "\n",
    "# Review the DataFrame\n",
    "df_elbow.head(20)"
   ]
  },
  {
   "cell_type": "code",
   "execution_count": null,
   "metadata": {},
   "outputs": [],
   "source": [
    "# Plot the DataFrame\n",
    "plt.plot(df_elbow[\"k\"], df_elbow[\"inertia\"])\n",
    "plt.title(\"Elbow Curve\")\n",
    "plt.xticks(df_elbow[\"k\"])\n",
    "plt.ylabel(\"inertia\")\n",
    "plt.xlabel(\"k\")\n",
    "plt.show()"
   ]
  },
  {
   "cell_type": "code",
   "execution_count": null,
   "metadata": {},
   "outputs": [],
   "source": [
    "# Create a dictionary with the data to plot the Elbow curve\n",
    "# Define a DataFrame to hold the values for k and the corresponding inertia\n",
    "elbow_data = {\"k\": k, \"inertia\": inertia}\n",
    "df_elbow = pd.DataFrame(elbow_data)\n",
    "\n",
    "# Review the DataFrame\n",
    "df_elbow.head(20)\n",
    "\n",
    "\n"
   ]
  },
  {
   "cell_type": "code",
   "execution_count": null,
   "metadata": {},
   "outputs": [],
   "source": [
    "# Plot a line chart with all the inertia values computed with \n",
    "# the different values of k to visually identify the optimal value for k.\n",
    "# Plot the DataFrame\n",
    "plt.plot(df_elbow[\"k\"], df_elbow[\"inertia\"])\n",
    "plt.title(\"Elbow Curve\")\n",
    "plt.xticks(df_elbow[\"k\"])\n",
    "plt.ylabel(\"inertia\")\n",
    "plt.xlabel(\"k\")\n",
    "plt.show()"
   ]
  },
  {
   "cell_type": "code",
   "execution_count": null,
   "metadata": {},
   "outputs": [],
   "source": [
    "# Create the elbow curve plot using hvPlot\n",
    "elbow_plot = df_elbow.hvplot.line(\n",
    "    x=\"k\",\n",
    "    y=\"inertia\",\n",
    "    title=\"Elbow Curve\",\n",
    "    xlabel=\"Number of Clusters (k)\",\n",
    "    ylabel=\"Inertia\",\n",
    "    xticks=df_elbow[\"k\"],\n",
    "    line_color='blue'  # Optional: Set a color for the line\n",
    ")\n",
    "\n",
    "# Display the elbow plot\n",
    "elbow_plot"
   ]
  },
  {
   "attachments": {},
   "cell_type": "markdown",
   "metadata": {},
   "source": [
    "#### Answer the following question: \n",
    "\n",
    "**Question:** What is the best value for `k`?\n",
    "\n",
    "**Answer:** The best value for k is typically where the inertia starts to decrease more slowly, indicating diminishing returns in terms of clustering improvement. In this case, the best value for k is likely 4. This choice is supported by factors such as the highest variance ratio criterion, the steepest elbow section in the inertia plot, and a good silhouette score at the elbow point.."
   ]
  },
  {
   "attachments": {},
   "cell_type": "markdown",
   "metadata": {},
   "source": [
    "---"
   ]
  },
  {
   "attachments": {},
   "cell_type": "markdown",
   "metadata": {},
   "source": [
    "### Cluster Cryptocurrencies with K-means Using the Original Data"
   ]
  },
  {
   "cell_type": "code",
   "execution_count": null,
   "metadata": {},
   "outputs": [],
   "source": [
    "\n",
    "df_sub=df_scaled.copy()\n",
    "\n",
    "# Select only numeric columns for clustering\n",
    "numeric_columns = df_scaled.select_dtypes(include=['float64', 'int64'])\n",
    "\n",
    "# Initialize the K-Means model using the best value for k\n",
    "model = KMeans(n_clusters=4, random_state=1) \n",
    "\n",
    "# Fit the K-Means model using the scaled data\n",
    "model.fit(numeric_columns)\n",
    "\n",
    "# Predict the clusters to group the cryptocurrencies using the scaled data\n",
    "preds = model.predict(numeric_columns)\n",
    "\n",
    "# Print the resulting array of cluster values.\n",
    "print(preds)\n",
    "\n",
    "# Create a copy of the DataFrame\n",
    "df_sub2 = df_scaled.copy()\n",
    "\n",
    "# Add a new column to the DataFrame with the predicted clusters\n",
    "df_sub2['clusters'] = preds\n",
    "\n",
    "# Display sample data\n",
    "df_sub2.head()"
   ]
  },
  {
   "cell_type": "code",
   "execution_count": null,
   "metadata": {},
   "outputs": [],
   "source": [
    "# Select numerical columns from df_scaled\n",
    "numerical_columns = df_scaled.select_dtypes(include=['float64', 'int64']).columns\n",
    "df_numerical = df_scaled[numerical_columns]\n",
    "\n",
    "# Apply t-SNE on the numerical data\n",
    "tsne = TSNE(perplexity=4)\n",
    "df_tsne = pd.DataFrame(tsne.fit_transform(df_numerical))\n",
    "\n",
    "# Plot the clusters\n",
    "plt.scatter(df_tsne[0], df_tsne[1], c=pd.factorize(df_sub2['clusters'])[0])\n",
    "plt.title(\"t-SNE on Numerical Data with Clusters\")\n",
    "plt.show()"
   ]
  },
  {
   "cell_type": "code",
   "execution_count": null,
   "metadata": {},
   "outputs": [],
   "source": [
    "# Can this even be clustered?\n",
    "\n",
    "# Assuming df_scaled is your DataFrame containing the scaled data, excluding the column with cryptocurrency names\n",
    "numerical_columns = df_scaled.select_dtypes(include=['float64', 'int64']).columns\n",
    "df_numerical = df_sub2[numerical_columns]\n",
    "\n",
    "# Apply t-SNE on the numerical data\n",
    "tsne = TSNE(perplexity=4)\n",
    "df_tsne = pd.DataFrame(tsne.fit_transform(df_numerical))\n",
    "\n",
    "# Plot the clusters\n",
    "plt.scatter(df_tsne[0], df_tsne[1])\n",
    "plt.title(\"t-SNE on SCALED Data\")\n",
    "plt.show()"
   ]
  },
  {
   "cell_type": "code",
   "execution_count": null,
   "metadata": {},
   "outputs": [],
   "source": [
    "plt.scatter(df_sub2.price_change_percentage_24h, df_sub2.price_change_percentage_7d, c= df_sub2.clusters)\n",
    "plt.ylabel(\"price_change_percentage_7d\")\n",
    "plt.xlabel(\"price_change_percentage_24h\")\n",
    "plt.show()"
   ]
  },
  {
   "cell_type": "code",
   "execution_count": null,
   "metadata": {},
   "outputs": [],
   "source": [
    "scaled_plot = df_sub2.hvplot.scatter(\n",
    "    x=\"price_change_percentage_24h\",\n",
    "    y=\"price_change_percentage_7d\",\n",
    "    by=\"clusters\",  # This will color the points by clusters\n",
    "    title=\"Cryptocurrency Price Changes\",\n",
    "    xlabel=\"Price Change Percentage (24h)\",\n",
    "    ylabel=\"Price Change Percentage (7d)\",\n",
    "    hover_cols=[\"coin_id\"]  # Optional: Include additional info on hover\n",
    ")\n",
    "\n",
    "# Display the plot\n",
    "scaled_plot"
   ]
  },
  {
   "cell_type": "code",
   "execution_count": null,
   "metadata": {},
   "outputs": [],
   "source": [
    "# df_sub4 = df_sub2.copy()\n",
    "# scaled_plot = df_sub4.hvplot.scatter(\n",
    "#     x=\"price_change_percentage_24h\",  # Fixed typo here\n",
    "#     y=\"price_change_percentage_7d\",\n",
    "#     by=\"clusters\",\n",
    "#     hover_cols=[\"coin_id\"],\n",
    "#     marker=[\"hex\", \"square\", \"cross\", \"inverted_triangle\"],\n",
    "#     title=\"Cryptocurrencies clusters\",\n",
    "# )\n",
    "\n",
    "# # Display the plot\n",
    "# scaled_plot"
   ]
  },
  {
   "cell_type": "code",
   "execution_count": null,
   "metadata": {},
   "outputs": [],
   "source": [
    "# Create a scatter plot using hvPlot by setting \n",
    "# `x=\"price_change_percentage_24h\"` and `y=\"price_change_percentage_7d\"`. \n",
    "# Color the graph points with the labels found using K-Means and \n",
    "# add the crypto name in the `hover_cols` parameter to identify \n",
    "# the cryptocurrency represented by each data point.\n",
    "df_sub2.reset_index().hvplot.scatter(\n",
    "    width = 800,\n",
    "    height=400,\n",
    "    x=\"price_change_percentage_24h\",\n",
    "    y=\"price_change_percentage_7d\",\n",
    "    color =\"clusters\",\n",
    "    hover_cols=\"coin_id\"\n",
    ")\n"
   ]
  },
  {
   "attachments": {},
   "cell_type": "markdown",
   "metadata": {},
   "source": [
    "---"
   ]
  },
  {
   "attachments": {},
   "cell_type": "markdown",
   "metadata": {},
   "source": [
    "### Optimize Clusters with Principal Component Analysis."
   ]
  },
  {
   "cell_type": "code",
   "execution_count": null,
   "metadata": {},
   "outputs": [],
   "source": [
    "# Select only numeric columns for correlation calculation\n",
    "numeric_cols = df_scaled.select_dtypes(include=[np.number])\n",
    "\n",
    "# Calculate the correlation matrix\n",
    "corrs = numeric_cols.corr()\n",
    "corrs"
   ]
  },
  {
   "cell_type": "code",
   "execution_count": null,
   "metadata": {},
   "outputs": [],
   "source": [
    "sns.heatmap(corrs, annot=True)\n",
    "plt.show()"
   ]
  },
  {
   "cell_type": "code",
   "execution_count": null,
   "metadata": {},
   "outputs": [],
   "source": [
    "# Assuming df_scaled is your scaled DataFrame\n",
    "numeric_df = df_scaled.select_dtypes(include=['float64', 'int64'])\n",
    "n_components = len(numeric_df.columns)\n",
    "pca=PCA(n_components=n_components)\n",
    "\n",
    "pca_data = pca.fit_transform(numeric_df)\n",
    "df_pca7 = pd.DataFrame(pca_data, columns=[\"PCA_\" + str(x) for x in range(1, n_components + 1)])\n",
    "\n",
    "# View the first five rows of the DataFrame. \n",
    "df_pca7.head()"
   ]
  },
  {
   "cell_type": "code",
   "execution_count": null,
   "metadata": {},
   "outputs": [],
   "source": [
    "# Retrieve the explained variance to determine how much information \n",
    "# can be attributed to each principal component.\n",
    "# See if dimensionality reduction will help\n",
    "\n",
    "# Assume pca.explained_variance_ratio_ is already computed\n",
    "explained_variance_ratio = pca.explained_variance_ratio_\n",
    "\n",
    "# Create a DataFrame from the explained variance ratio\n",
    "df2 = pd.DataFrame({\n",
    "    'Principal Component': range(1, n_components + 1),\n",
    "    'Explained Variance Ratio': explained_variance_ratio\n",
    "})\n",
    "\n",
    "# Plot the elbow plot\n",
    "plt.figure(figsize=(8, 5))\n",
    "plt.plot(df2['Principal Component'], df2['Explained Variance Ratio'], marker='o', linestyle='--')\n",
    "plt.xlabel('Principal Component')\n",
    "plt.ylabel('Explained Variance Ratio')\n",
    "plt.title('Elbow Plot of PCA Explained Variance Ratio')\n",
    "plt.grid(True)\n",
    "plt.show()"
   ]
  },
  {
   "cell_type": "code",
   "execution_count": null,
   "metadata": {},
   "outputs": [],
   "source": [
    "# Assuming df_scaled is your scaled DataFrame\n",
    "numeric_df = df_scaled.select_dtypes(include=['float64', 'int64'])  # Select only numeric columns\n",
    "\n",
    "# Set the number of components to 3\n",
    "n_components = 3  \n",
    "\n",
    "# Use the PCA model with `fit_transform` to reduce to \n",
    "# three principal components.\n",
    "pca = PCA(n_components=n_components)\n",
    "\n",
    "# Fit the PCA model on the transformed numeric DataFrame\n",
    "pca_data = pca.fit_transform(numeric_df)\n",
    "df_pca3 = pd.DataFrame(pca_data, columns=[\"PCA_\" + str(x) for x in range(1, n_components + 1)])\n",
    "df_pca3.index = df_scaled.index\n",
    "\n",
    "df_pca3.head()"
   ]
  },
  {
   "cell_type": "code",
   "execution_count": null,
   "metadata": {},
   "outputs": [],
   "source": [
    "explained_variance_ratio"
   ]
  },
  {
   "cell_type": "code",
   "execution_count": null,
   "metadata": {},
   "outputs": [],
   "source": [
    "sum(explained_variance_ratio[0:3])\n"
   ]
  },
  {
   "attachments": {},
   "cell_type": "markdown",
   "metadata": {},
   "source": [
    "#### Answer the following question: \n",
    "\n",
    "**Question:** What is the total explained variance of the three principal components?\n",
    "\n",
    "**Answer:** 3 components still explains90% of the variance, so it is worth doing dimensionality reduction."
   ]
  },
  {
   "cell_type": "code",
   "execution_count": null,
   "metadata": {},
   "outputs": [],
   "source": [
    "\n",
    "# Display sample data\n",
    "df_pca3.head()"
   ]
  },
  {
   "attachments": {},
   "cell_type": "markdown",
   "metadata": {},
   "source": [
    "---"
   ]
  },
  {
   "attachments": {},
   "cell_type": "markdown",
   "metadata": {},
   "source": [
    "### Find the Best Value for k Using the PCA Data"
   ]
  },
  {
   "cell_type": "code",
   "execution_count": null,
   "metadata": {},
   "outputs": [],
   "source": [
    "df_pca3.head()"
   ]
  },
  {
   "cell_type": "code",
   "execution_count": null,
   "metadata": {},
   "outputs": [],
   "source": [
    "# Assuming df_pca3 is your PCA DataFrame with PCA components\n",
    "inertia_values = []\n",
    "k_values = range(1, 11)  # You can adjust the range of k values\n",
    "\n",
    "# Perform K-means clustering for different values of k\n",
    "for k in k_values:\n",
    "    kmeans = KMeans(n_clusters=k, random_state=42)\n",
    "    kmeans.fit(df_pca3)  # Fit K-means to the PCA data\n",
    "    inertia_values.append(kmeans.inertia_)  # Store the inertia value\n",
    "\n",
    "# Create a DataFrame for the elbow plot\n",
    "df_pca_elbow = pd.DataFrame({\n",
    "    'k': k_values,\n",
    "    'inertia': inertia_values\n",
    "})\n",
    "\n",
    "# Create the elbow curve plot for PCA data\n",
    "pca_elbow_plot = df_pca_elbow.hvplot.line(\n",
    "    x=\"k\",\n",
    "    y=\"inertia\",\n",
    "    title=\"PCA Elbow Curve\",\n",
    "    xlabel=\"Number of Clusters (k)\",\n",
    "    ylabel=\"Inertia\",\n",
    "    xticks=df_pca_elbow[\"k\"],\n",
    "    line_color='orange'  # Optional: Set a color for the line\n",
    ")\n",
    "\n",
    "# Display the PCA elbow plot\n",
    "pca_elbow_plot"
   ]
  },
  {
   "cell_type": "code",
   "execution_count": null,
   "metadata": {},
   "outputs": [],
   "source": [
    "# Create a list with the number of k-values from 1 to 11\n",
    "# Assuming df_scaled is your DataFrame containing the scaled data, excluding the column with cryptocurrency names\n",
    "numerical_columns = df_scaled.select_dtypes(include=['float64', 'int64']).columns\n",
    "df_numerical = df_scaled[numerical_columns]\n",
    "\n",
    "# Apply t-SNE on the numerical data\n",
    "tsne = TSNE()\n",
    "df_tsne1 = pd.DataFrame(tsne.fit_transform(df_pca7))\n",
    "\n",
    "# Plot the clusters\n",
    "plt.scatter(df_tsne1[1], df_tsne1[0])\n",
    "plt.title(\"t-SNE on PCA Data\")\n",
    "plt.show()"
   ]
  },
  {
   "cell_type": "code",
   "execution_count": null,
   "metadata": {},
   "outputs": [],
   "source": [
    "#Define your X features to predict\n",
    "X=df_scaled"
   ]
  },
  {
   "cell_type": "code",
   "execution_count": null,
   "metadata": {},
   "outputs": [],
   "source": [
    "# Create an empty list to store the inertia values\n",
    "# Assuming X is your data without non-numeric columns like cryptocurrency names\n",
    "numerical_columns = X.select_dtypes(include=['float64', 'int64']).columns\n",
    "X_numerical = X[numerical_columns]\n",
    "\n",
    "inertia = []\n",
    "silhouettes = []\n",
    "cha_chas = []\n",
    "\n",
    "# Create a a list to store the values of k\n",
    "k = list(range(2, 20))\n",
    "\n",
    "# Create a for-loop where each value of k is evaluated using the K-means algorithm\n",
    "# Fit the model using the spread_df DataFrame\n",
    "# Append the value of the computed inertia from the `inertia_` attribute of the KMeans model instance\n",
    "for i in k:\n",
    "    k_model = KMeans(n_clusters=i, random_state=1)\n",
    "    k_model.fit(X_numerical)\n",
    "    preds = k_model.predict(X_numerical)\n",
    "    \n",
    "    inertia.append(k_model.inertia_)\n",
    "    score = silhouette_score(X_numerical, preds)\n",
    "    silhouettes.append(score)\n",
    "    \n",
    "    cha_cha = calinski_harabasz_score(X_numerical, preds)\n",
    "    cha_chas.append(cha_cha)\n",
    "    \n",
    "    print(f\"Finished {i} out of {max(k)}\")\n"
   ]
  },
  {
   "cell_type": "code",
   "execution_count": null,
   "metadata": {},
   "outputs": [],
   "source": [
    "# Create a dictionary with the data to plot the Elbow curve\n",
    "# Define a DataFrame to hold the values for k and the corresponding inertia\n",
    "elbow_data = {\"k\": k, \"inertia\": inertia, \"silhouette_score\": silhouettes, \"cha_score\": cha_chas}\n",
    "\n",
    "# Create a DataFrame with the data to plot the Elbow curve\n",
    "df_elbow = pd.DataFrame(elbow_data)\n",
    "\n",
    "df_elbow[\"acc\"] = df_elbow.inertia.diff()\n",
    "\n",
    "# Review the DataFrame\n",
    "df_elbow.head(20)\n",
    "\n"
   ]
  },
  {
   "cell_type": "code",
   "execution_count": null,
   "metadata": {},
   "outputs": [],
   "source": [
    "# Plot a line chart with all the inertia values computed with \n",
    "# the different values of k to visually identify the optimal value for k.\n",
    "# Plot the DataFrame\n",
    "plt.plot(df_elbow[\"k\"], df_elbow[\"inertia\"])\n",
    "plt.title(\"Elbow Curve\")\n",
    "plt.xticks(df_elbow[\"k\"])\n",
    "plt.ylabel(\"inertia\")\n",
    "plt.xlabel(\"k\")\n",
    "plt.show()\n"
   ]
  },
  {
   "cell_type": "code",
   "execution_count": null,
   "metadata": {},
   "outputs": [],
   "source": [
    "df_elbow.hvplot.line(\n",
    "    x=\"k\",\n",
    "    y=\"inertia\",\n",
    "    title=\"Elbow Curve\",\n",
    "    xticks=df_elbow[\"k\"]\n",
    ")"
   ]
  },
  {
   "attachments": {},
   "cell_type": "markdown",
   "metadata": {},
   "source": [
    "#### Answer the following questions: \n",
    "\n",
    "* **Question:** What is the best value for `k` when using the PCA data?\n",
    "\n",
    "  * **Answer:** K is likely looks to be best again. PCA looks better\n",
    "\n",
    "\n",
    "* **Question:** Does it differ from the best k value found using the original data?\n",
    "\n",
    "  * **Answer:** K is likely looks to be best again. PCA looks better"
   ]
  },
  {
   "attachments": {},
   "cell_type": "markdown",
   "metadata": {},
   "source": [
    "### Cluster Cryptocurrencies with K-means Using the PCA Data"
   ]
  },
  {
   "cell_type": "code",
   "execution_count": null,
   "metadata": {},
   "outputs": [],
   "source": [
    "# Select only numeric columns for clustering\n",
    "numeric_columns = df_scaled.select_dtypes(include=['float64', 'int64'])\n",
    "\n",
    "# Initialize the K-Means model using the best value for k\n",
    "model = KMeans(n_clusters=4, random_state=1) \n",
    "\n",
    "# Fit the K-Means model using the PCA data\n",
    "model.fit(numeric_columns)\n",
    "\n",
    "# Predict the clusters to group the cryptocurrencies using the PCA data\n",
    "preds = model.predict(numeric_columns)\n",
    "\n",
    "# Print the resulting array of cluster values.\n",
    "print(preds)\n",
    "\n",
    "# Create a copy of the DataFrame\n",
    "df_sub2 = df_scaled.copy()\n",
    "\n",
    "# Add a new column to the DataFrame with the predicted clusters\n",
    "df_sub2['clusters'] = preds\n",
    "\n",
    "# Display sample data\n",
    "df_sub2.head()"
   ]
  },
  {
   "cell_type": "code",
   "execution_count": null,
   "metadata": {},
   "outputs": [],
   "source": [
    "\n",
    "\n",
    "# Create a copy of the DataFrame with the PCA data\n",
    "df_sub2=df_pca3.copy()\n",
    "\n",
    "# Add a new column to the DataFrame with the predicted clusters\n",
    "df_sub2['clusters'] = preds\n",
    "\n",
    "# Display sample data\n",
    "df_sub2.head()\n",
    "\n"
   ]
  },
  {
   "cell_type": "code",
   "execution_count": null,
   "metadata": {},
   "outputs": [],
   "source": [
    "# Plot the clusters\n",
    "plt.scatter(df_tsne1[1], df_tsne1[0], c=df_sub2.clusters)\n",
    "plt.title(\"t-SNE on PCA Data\")\n",
    "plt.show()"
   ]
  },
  {
   "cell_type": "code",
   "execution_count": null,
   "metadata": {},
   "outputs": [],
   "source": [
    "plt.scatter(df_sub2.PCA_1, df_sub2.PCA_2, c=df_sub2.clusters)\n",
    "plt.ylabel(\"PCA_1\")\n",
    "plt.xlabel(\"PCA_2\")\n",
    "plt.show()"
   ]
  },
  {
   "cell_type": "code",
   "execution_count": null,
   "metadata": {},
   "outputs": [],
   "source": [
    "# Create a scatter plot using hvPlot by setting \n",
    "# `x=\"PC1\"` and `y=\"PC2\"`. \n",
    "# Color the graph points with the labels found using K-Means and \n",
    "# add the crypto name in the `hover_cols` parameter to identify \n",
    "# the cryptocurrency represented by each data point.\n",
    "df_sub2.reset_index().hvplot.scatter(\n",
    "    width = 800,\n",
    "    height=400,\n",
    "    x=\"PCA_1\",\n",
    "    y=\"PCA_2\",\n",
    "    color =\"clusters\",\n",
    "    hover_cols=\"coin_id\"\n",
    ")\n"
   ]
  },
  {
   "cell_type": "code",
   "execution_count": null,
   "metadata": {},
   "outputs": [],
   "source": [
    "#Hvplot\n",
    "df_sub3=df_sub2.copy()\n",
    "pca_plot = df_sub3.hvplot.scatter(\n",
    "    x=\"PCA_1\",\n",
    "    y=\"PCA_2\",\n",
    "    by =\"clusters\",\n",
    "    hover_cols=[\"coin_id\"],\n",
    "    marker=[\"hex\", \"square\",\"cross\", \"inverted_triangle\"],\n",
    "    title = \"Cryptocurrencies clusters Using PCA Data\",\n",
    ")\n",
    "\n",
    "pca_plot"
   ]
  },
  {
   "attachments": {},
   "cell_type": "markdown",
   "metadata": {},
   "source": [
    "### Visualize and Compare the Results\n",
    "\n",
    "In this section, you will visually analyze the cluster analysis results by contrasting the outcome with and without using the optimization techniques."
   ]
  },
  {
   "cell_type": "code",
   "execution_count": null,
   "metadata": {},
   "outputs": [],
   "source": [
    "# # Composite plot to contrast the Elbow curves\n",
    "elbow_plot + pca_elbow_plot"
   ]
  },
  {
   "cell_type": "code",
   "execution_count": null,
   "metadata": {},
   "outputs": [],
   "source": [
    "# # Composite plot to contrast the clusters\n",
    "scaled_plot + pca_plot"
   ]
  },
  {
   "attachments": {},
   "cell_type": "markdown",
   "metadata": {},
   "source": [
    "#### Answer the following question: \n",
    "\n",
    "  * **Question:** After visually analyzing the cluster analysis results, what is the impact of using fewer features to cluster the data using K-Means?\n",
    "\n",
    "  * **Answer:** The cluster analysis results visually, it appears that reducing the number of features used to cluster the data using K-Means had a significant impact. In the initial plot, which depicted the original data clustering, the elbow curve indicated that the optimal value for K was 4, resulting in 4 clusters."
   ]
  }
 ],
 "metadata": {
  "kernelspec": {
   "display_name": "Python 3 (ipykernel)",
   "language": "python",
   "name": "python3"
  },
  "language_info": {
   "codemirror_mode": {
    "name": "ipython",
    "version": 3
   },
   "file_extension": ".py",
   "mimetype": "text/x-python",
   "name": "python",
   "nbconvert_exporter": "python",
   "pygments_lexer": "ipython3",
   "version": "3.10.14"
  },
  "nteract": {
   "version": "0.28.0"
  },
  "vscode": {
   "interpreter": {
    "hash": "40d3a090f54c6569ab1632332b64b2c03c39dcf918b08424e98f38b5ae0af88f"
   }
  }
 },
 "nbformat": 4,
 "nbformat_minor": 4
}
